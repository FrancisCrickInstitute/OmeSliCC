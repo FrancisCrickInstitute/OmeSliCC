{
 "cells": [
  {
   "cell_type": "code",
   "id": "initial_id",
   "metadata": {
    "collapsed": true
   },
   "source": [
    "import hyperspy.api as hs\n",
    "import numpy as np\n",
    "import json"
   ],
   "outputs": [],
   "execution_count": null
  },
  {
   "metadata": {},
   "cell_type": "code",
   "source": [
    "file_dir = \"C:/Project/slides/20230512 2210 HAADF.emd\"\n",
    "s = hs.load(file_dir, select_type = 'images')"
   ],
   "id": "68747a1d934df53b",
   "outputs": [],
   "execution_count": null
  },
  {
   "metadata": {},
   "cell_type": "code",
   "source": [
    "print(json.dumps(s[0].metadata.as_dictionary(), indent=4))\n",
    "print(json.dumps(s[0].original_metadata.as_dictionary(), indent=4))"
   ],
   "id": "811d1ba8c60040df",
   "outputs": [],
   "execution_count": null
  }
 ],
 "metadata": {
  "kernelspec": {
   "display_name": "Python 3",
   "language": "python",
   "name": "python3"
  },
  "language_info": {
   "codemirror_mode": {
    "name": "ipython",
    "version": 2
   },
   "file_extension": ".py",
   "mimetype": "text/x-python",
   "name": "python",
   "nbconvert_exporter": "python",
   "pygments_lexer": "ipython2",
   "version": "2.7.6"
  }
 },
 "nbformat": 4,
 "nbformat_minor": 5
}
